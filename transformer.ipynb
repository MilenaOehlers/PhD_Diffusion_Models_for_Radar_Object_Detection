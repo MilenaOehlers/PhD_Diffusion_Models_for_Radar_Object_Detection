{
  "nbformat": 4,
  "nbformat_minor": 0,
  "metadata": {
    "colab": {
      "provenance": [],
      "authorship_tag": "ABX9TyM6xMX/TENbzrEcFazCIMSH",
      "include_colab_link": true
    },
    "kernelspec": {
      "name": "python3",
      "display_name": "Python 3"
    },
    "language_info": {
      "name": "python"
    }
  },
  "cells": [
    {
      "cell_type": "markdown",
      "metadata": {
        "id": "view-in-github",
        "colab_type": "text"
      },
      "source": [
        "<a href=\"https://colab.research.google.com/github/MilenaOehlers/diffusion_models_for_radar_object_detection/blob/main/transformer.ipynb\" target=\"_parent\"><img src=\"https://colab.research.google.com/assets/colab-badge.svg\" alt=\"Open In Colab\"/></a>"
      ]
    },
    {
      "cell_type": "markdown",
      "source": [
        "\n",
        "The following notebook contains a transformer built from scratch, following the\n",
        "article https://towardsdatascience.com/build-your-own-transformer-from-scratch-using-pytorch-84c850470dcb\n",
        "\n",
        "Finally, a well-written expalanation about transformers:\n",
        "\n",
        "1. Part 1: https://towardsdatascience.com/all-you-need-to-know-about-attention-and-transformers-in-depth-understanding-part-1-552f0b41d021\n",
        "2. Part 2: https://towardsdatascience.com/all-you-need-to-know-about-attention-and-transformers-in-depth-understanding-part-2-bf2403804ada\n",
        "\n",
        "From same author, article about vision transformers specifically:\n",
        "https://towardsdatascience.com/are-transformers-better-than-cnns-at-image-recognition-ced60ccc7c8"
      ],
      "metadata": {
        "id": "fnCcpO3X_BCW"
      }
    },
    {
      "cell_type": "code",
      "execution_count": 5,
      "metadata": {
        "id": "LcaW8vho-9Nv"
      },
      "outputs": [],
      "source": [
        "import torch\n",
        "import torch.nn as nn\n",
        "import torch.optim as optim\n",
        "import torch.utils.data as data\n",
        "import math, copy"
      ]
    },
    {
      "cell_type": "code",
      "source": [
        "class MultiHeadAttention(nn.Module):\n",
        "    def __init__(self, d_model, num_heads):\n",
        "        super(MultiHeadAttention, self).__init__() # same as super().__init__()\n",
        "        assert d_model % num_heads == 0, \"d_model must be divisible by num_heads\"\n",
        "\n",
        "        self.d_model = d_model\n",
        "        self.num_heads = num_heads\n",
        "        self.d_k = d_model // num_heads\n",
        "\n",
        "        # would have expected to have num_heads x (d_k x d_k) weight matrices\n",
        "        # maybe the weight matrices are block/0 matrices?\n",
        "        # else, there would be interaction term between different heads\n",
        "        # dont think I have seen that in the explanation\n",
        "\n",
        "        \"\"\"NEW: makes more sense now!\n",
        "        1) Take W_k for instance: take K, either a long word vector 1 x d_model,\n",
        "           or same word stacked upon itself yielding 1 x (d_k * num_heads),\n",
        "           (probably latter, but) whichever\n",
        "        2) Weigh it with fully connected layer, hence regions that will belong\n",
        "           to different heads later DO influence each other here! Hence the part\n",
        "           of K that will be assigned to head1 influences head2 and vice versa\n",
        "           - how exactly, is learnable\n",
        "        3) Now, split K (and Q also for that manner) into pieces corr. to the\n",
        "           heads. all K- and Q-pieces are matmuled independently from the other\n",
        "           heads.\n",
        "        -> The combi of 2 and 3 shows why it makes sense that there is a K and\n",
        "           a Q weight! :)\n",
        "        ... on the other hand, how the hack is K defined at the very beginning?\n",
        "        if multiplied with W_K, which is num_heads*d_k, K might be stacked\n",
        "        num_heads times onto itself, hence the influence of input_head_1-K onto\n",
        "        head_2-K is irrlevant, as input_head_1_k==input_head_2_k! jeez luise...\n",
        "\n",
        "        Ahhh wait. Fully connected linear layer. Values of input K of first\n",
        "        head pass thorugh it, hence also influencing resulting K of second head?\n",
        "        seems like it! So, the weights DO connect the word/token-vector part,\n",
        "        which is of dim (1 x d_model)... or is it of (1 x d_k)? Really unhelpful\n",
        "        that there is no documentation in this class...\n",
        "\n",
        "        Shouldnt the bias kwarg be set to False according to article?\n",
        "        is set to True by default!\n",
        "\n",
        "        acts like a matrix multiplication, of x dims applies 'matrix' to last\n",
        "        dim: (X,Y,Z,A) x (A,B) -> (X,Y,Z,B)\n",
        "\n",
        "        Will be applied to (batch_size, seq_length, d_model)-sized vector,\n",
        "        thus preserving its dimensions\n",
        "        \"\"\"\n",
        "        self.W_q = nn.Linear(d_model, d_model) # query weights\n",
        "        self.W_k = nn.Linear(d_model, d_model) # key weights\n",
        "        self.W_v = nn.Linear(d_model, d_model) # value weights\n",
        "        self.W_o = nn.Linear(d_model, d_model) # output weights\n",
        "\n",
        "    def scaled_dot_product_attention(self, Q, K, V, mask=None):\n",
        "        \"\"\"Q,K,V: (batch_size,num_heads,seq_length,d_k)\n",
        "\n",
        "        For each batch-head combination c, the respective sub-matrices of K and\n",
        "        Q, namely K_c and Q_c\n",
        "        are matrix multiplied independently of all other sub matrices, then\n",
        "        stacked upon each other again at the end. Hence, as suspected,\n",
        "        there is no interaction between the K_c and the Q_d of different heads\n",
        "        (and hence still no reason to weigh both K and Q...)\n",
        "        \"\"\"\n",
        "        attn_scores = torch.matmul(Q, K.transpose(-2, -1)) / math.sqrt(self.d_k)\n",
        "        if mask is not None:\n",
        "            # replace 0 with -1e9\n",
        "            # masks interesting for machine translation\n",
        "            # (inhowfar not explained in the article)\n",
        "            attn_scores = attn_scores.masked_fill(mask == 0, -1e9)\n",
        "        attn_probs = torch.softmax(attn_scores, dim=-1)\n",
        "        output = torch.matmul(attn_probs, V)\n",
        "        return output\n",
        "\n",
        "    def split_heads(self, x):\n",
        "        batch_size, seq_length, d_model = x.size()\n",
        "        return x.view(batch_size, seq_length, self.num_heads, self.d_k).transpose(1, 2)\n",
        "\n",
        "    def combine_heads(self, x):\n",
        "        batch_size, _, seq_length, d_k = x.size()\n",
        "        return x.transpose(1, 2).contiguous().view(batch_size, seq_length, self.d_model)\n",
        "\n",
        "    def forward(self, Q, K, V, mask=None):\n",
        "        Q = self.split_heads(self.W_q(Q))\n",
        "        K = self.split_heads(self.W_k(K))\n",
        "        V = self.split_heads(self.W_v(V))\n",
        "\n",
        "        # Still think that in case of scaled_dot_product_attention,\n",
        "        # assigning weight matrix to both Q and K might be useless, even\n",
        "        # detrimental, to learning\n",
        "        attn_output = self.scaled_dot_product_attention(Q, K, V, mask)\n",
        "        output = self.W_o(self.combine_heads(attn_output))\n",
        "        return output"
      ],
      "metadata": {
        "id": "pMruxaQ9Hs1M"
      },
      "execution_count": 6,
      "outputs": []
    },
    {
      "cell_type": "code",
      "source": [
        "class PositionWiseFeedForward(nn.Module):\n",
        "    def __init__(self, d_model, d_ff):\n",
        "        super(PositionWiseFeedForward, self).__init__()\n",
        "        \"\"\"d_ff is unclear again!\"\"\"\n",
        "        self.fc1 = nn.Linear(d_model, d_ff)\n",
        "        self.fc2 = nn.Linear(d_ff, d_model)\n",
        "        self.relu = nn.ReLU()\n",
        "\n",
        "    def forward(self, x):\n",
        "        return self.fc2(self.relu(self.fc1(x)))"
      ],
      "metadata": {
        "id": "cfrYypBwUvDM"
      },
      "execution_count": 7,
      "outputs": []
    },
    {
      "cell_type": "code",
      "source": [
        "class PositionalEncoding(nn.Module):\n",
        "    def __init__(self, d_model, max_seq_length):\n",
        "        super(PositionalEncoding, self).__init__()\n",
        "\n",
        "        pe = torch.zeros(max_seq_length, d_model)\n",
        "        position = torch.arange(0, max_seq_length, dtype=torch.float).unsqueeze(1)\n",
        "        \"\"\"This encodes the position in the head_i-k_vector_element space,\n",
        "        not as expected previously in the sequence_element space\"\"\"\n",
        "        div_term = torch.exp(torch.arange(0, d_model, 2).float() * -(math.log(10000.0) / d_model))\n",
        "\n",
        "        \"\"\"Here though, the position inside the sequence is encoded!\n",
        "        Clock-idea\"\"\"\n",
        "        pe[:, 0::2] = torch.sin(position * div_term)\n",
        "        pe[:, 1::2] = torch.cos(position * div_term)\n",
        "\n",
        "        self.register_buffer('pe', pe.unsqueeze(0))\n",
        "\n",
        "    def forward(self, x):\n",
        "        \"\"\"As already stated in the article, but surprisingly to me, positional\n",
        "        encoding is actually added onto the input vector, instead of\n",
        "        concatenated to it. this mingles info in a way i cannot imagine to be\n",
        "        useful, but appearantly, it works!\"\"\"\n",
        "        return x + self.pe[:, :x.size(1)]"
      ],
      "metadata": {
        "id": "nrW_mdiDv14t"
      },
      "execution_count": 8,
      "outputs": []
    },
    {
      "cell_type": "code",
      "source": [
        "class EncoderLayer(nn.Module):\n",
        "    def __init__(self, d_model, num_heads, d_ff, dropout):\n",
        "        super(EncoderLayer, self).__init__()\n",
        "        self.self_attn = MultiHeadAttention(d_model, num_heads)\n",
        "        self.feed_forward = PositionWiseFeedForward(d_model, d_ff)\n",
        "        self.norm1 = nn.LayerNorm(d_model)\n",
        "        self.norm2 = nn.LayerNorm(d_model)\n",
        "        self.dropout = nn.Dropout(dropout)\n",
        "\n",
        "    def forward(self, x, mask):\n",
        "        attn_output = self.self_attn(x, x, x, mask)\n",
        "        x = self.norm1(x + self.dropout(attn_output))\n",
        "        ff_output = self.feed_forward(x)\n",
        "        x = self.norm2(x + self.dropout(ff_output))\n",
        "        return x"
      ],
      "metadata": {
        "id": "MMD9ILwp7io0"
      },
      "execution_count": 9,
      "outputs": []
    },
    {
      "cell_type": "code",
      "source": [
        "class DecoderLayer(nn.Module):\n",
        "    def __init__(self, d_model, num_heads, d_ff, dropout):\n",
        "        super(DecoderLayer, self).__init__()\n",
        "        self.self_attn = MultiHeadAttention(d_model, num_heads)\n",
        "        self.cross_attn = MultiHeadAttention(d_model, num_heads)\n",
        "        self.feed_forward = PositionWiseFeedForward(d_model, d_ff)\n",
        "        self.norm1 = nn.LayerNorm(d_model)\n",
        "        self.norm2 = nn.LayerNorm(d_model)\n",
        "        self.norm3 = nn.LayerNorm(d_model)\n",
        "        self.dropout = nn.Dropout(dropout)\n",
        "\n",
        "    def forward(self, x, enc_output, src_mask, tgt_mask):\n",
        "        attn_output = self.self_attn(x, x, x, tgt_mask)\n",
        "        x = self.norm1(x + self.dropout(attn_output))\n",
        "        # attn_module.forward(Q,K,V)\n",
        "        # why would we, if we wanted to translate sth,\n",
        "        # ask in the decoder language, Q==x\n",
        "        # and respond in the encoded language, K,V==enc_output\n",
        "        # it should be exactly the other way round!\n",
        "        # still many open questions in transformer...\n",
        "        attn_output = self.cross_attn(x, enc_output, enc_output, src_mask)\n",
        "        x = self.norm2(x + self.dropout(attn_output))\n",
        "        ff_output = self.feed_forward(x)\n",
        "        x = self.norm3(x + self.dropout(ff_output))\n",
        "        return x"
      ],
      "metadata": {
        "id": "PEVONVHRAYFL"
      },
      "execution_count": 10,
      "outputs": []
    },
    {
      "cell_type": "code",
      "source": [
        "class Transformer(nn.Module):\n",
        "    def __init__(self, src_vocab_size, tgt_vocab_size, d_model, num_heads, num_layers, d_ff, max_seq_length, dropout):\n",
        "        super(Transformer, self).__init__()\n",
        "        self.encoder_embedding = nn.Embedding(src_vocab_size, d_model)\n",
        "        self.decoder_embedding = nn.Embedding(tgt_vocab_size, d_model)\n",
        "        self.positional_encoding = PositionalEncoding(d_model, max_seq_length)\n",
        "\n",
        "        self.encoder_layers = nn.ModuleList([EncoderLayer(d_model, num_heads, d_ff, dropout) for _ in range(num_layers)])\n",
        "        self.decoder_layers = nn.ModuleList([DecoderLayer(d_model, num_heads, d_ff, dropout) for _ in range(num_layers)])\n",
        "\n",
        "        self.fc = nn.Linear(d_model, tgt_vocab_size)\n",
        "        self.dropout = nn.Dropout(dropout)\n",
        "\n",
        "    def generate_mask(self, src, tgt):\n",
        "        src_mask = (src != 0).unsqueeze(1).unsqueeze(2)\n",
        "        tgt_mask = (tgt != 0).unsqueeze(1).unsqueeze(3)\n",
        "        seq_length = tgt.size(1)\n",
        "        nopeak_mask = (1 - torch.triu(torch.ones(1, seq_length, seq_length), diagonal=1)).bool()\n",
        "        tgt_mask = tgt_mask & nopeak_mask\n",
        "        \"\"\"so why lower left triangle of matrix, combined with\n",
        "        src!=0, tgt!=0? no idea how src and tgt look like!\n",
        "        -> seem to be the input and output sequences of words\n",
        "        but when would those become 0? A lot of stuff still unclear...\n",
        "        src and target probably contain the indizes of the words which will\n",
        "        later be converted into an embedding.\n",
        "        For instance, 1: I , 2: am, 3: hungry are the indizes\n",
        "        {1: [1,0,0,0,0,0],\n",
        "         2: [1,2,2,5,1,0],\n",
        "         3: [9,2,6,1,8,8]}\n",
        "        is the embedding. So, still unclear what src==0 or tgt==0 could mean.\n",
        "        might be commas or similar or values masked on purpose beforehand.\n",
        "        Using only one of the triangle matrices might mean that we only predict\n",
        "        into one direction, namely forward? That sounds more like an RNN\n",
        "        approach though.\n",
        "        Only tgt_mask is additionally added with this triangle shaped thingy.\n",
        "        I guess, when predicting, we do go word by word? So, take entire encoded\n",
        "        input from encoder for predicting word 3 in sentence 2, but take only\n",
        "        the predicted/ translated words 1 and 2 from sentence 2 as input, as\n",
        "        those determine the next predicted word. If we predict sequentially (do\n",
        "        we?) we d have to apply that mask anyways.\"\"\"\n",
        "        return src_mask, tgt_mask\n",
        "\n",
        "    def forward(self, src, tgt):\n",
        "        src_mask, tgt_mask = self.generate_mask(src, tgt)\n",
        "        src_embedded = self.dropout(self.positional_encoding(self.encoder_embedding(src)))\n",
        "        tgt_embedded = self.dropout(self.positional_encoding(self.decoder_embedding(tgt)))\n",
        "\n",
        "        enc_output = src_embedded\n",
        "        for enc_layer in self.encoder_layers:\n",
        "            enc_output = enc_layer(enc_output, src_mask)\n",
        "\n",
        "        dec_output = tgt_embedded\n",
        "        for dec_layer in self.decoder_layers:\n",
        "            dec_output = dec_layer(dec_output, enc_output, src_mask, tgt_mask)\n",
        "\n",
        "        output = self.fc(dec_output)\n",
        "        return output"
      ],
      "metadata": {
        "id": "KKJOEhYWEIl5"
      },
      "execution_count": 11,
      "outputs": []
    },
    {
      "cell_type": "markdown",
      "source": [
        "## Training"
      ],
      "metadata": {
        "id": "0_ZIuMzCQ4wM"
      }
    },
    {
      "cell_type": "code",
      "source": [
        "src_vocab_size = 5000\n",
        "tgt_vocab_size = 5000\n",
        "d_model = 512\n",
        "num_heads = 8\n",
        "num_layers = 6\n",
        "d_ff = 2048\n",
        "max_seq_length = 100\n",
        "dropout = 0.1\n",
        "\n",
        "transformer = Transformer(src_vocab_size, tgt_vocab_size, d_model, num_heads, num_layers, d_ff, max_seq_length, dropout)\n",
        "\n",
        "# Generate random sample data\n",
        "src_data = torch.randint(1, src_vocab_size, (64, max_seq_length))  # (batch_size, seq_length)\n",
        "tgt_data = torch.randint(1, tgt_vocab_size, (64, max_seq_length))  # (batch_size, seq_length)"
      ],
      "metadata": {
        "id": "0iSKeeioPVNM"
      },
      "execution_count": 12,
      "outputs": []
    },
    {
      "cell_type": "code",
      "source": [
        "criterion = nn.CrossEntropyLoss(ignore_index=0)\n",
        "optimizer = optim.Adam(transformer.parameters(), lr=0.0001, betas=(0.9, 0.98), eps=1e-9)\n",
        "\n",
        "transformer.train()\n",
        "\n",
        "for epoch in range(100):\n",
        "    optimizer.zero_grad()\n",
        "    output = transformer(src_data, tgt_data[:, :-1])\n",
        "    loss = criterion(output.contiguous().view(-1, tgt_vocab_size), tgt_data[:, 1:].contiguous().view(-1))\n",
        "    loss.backward()\n",
        "    optimizer.step()\n",
        "    print(f\"Epoch: {epoch+1}, Loss: {loss.item()}\")"
      ],
      "metadata": {
        "colab": {
          "base_uri": "https://localhost:8080/"
        },
        "id": "wLeB2pSoQ0qF",
        "outputId": "d6683d97-f182-477a-8d67-18a8bfd998a0"
      },
      "execution_count": null,
      "outputs": [
        {
          "output_type": "stream",
          "name": "stdout",
          "text": [
            "Epoch: 1, Loss: 8.695809364318848\n",
            "Epoch: 2, Loss: 8.557910919189453\n",
            "Epoch: 3, Loss: 8.482783317565918\n",
            "Epoch: 4, Loss: 8.431674003601074\n",
            "Epoch: 5, Loss: 8.3761625289917\n",
            "Epoch: 6, Loss: 8.306273460388184\n",
            "Epoch: 7, Loss: 8.235282897949219\n",
            "Epoch: 8, Loss: 8.154200553894043\n",
            "Epoch: 9, Loss: 8.074752807617188\n",
            "Epoch: 10, Loss: 7.987854480743408\n",
            "Epoch: 11, Loss: 7.916656017303467\n",
            "Epoch: 12, Loss: 7.829555988311768\n",
            "Epoch: 13, Loss: 7.751969337463379\n",
            "Epoch: 14, Loss: 7.666973114013672\n",
            "Epoch: 15, Loss: 7.584961414337158\n",
            "Epoch: 16, Loss: 7.495419979095459\n",
            "Epoch: 17, Loss: 7.4172186851501465\n",
            "Epoch: 18, Loss: 7.332920074462891\n",
            "Epoch: 19, Loss: 7.257452964782715\n",
            "Epoch: 20, Loss: 7.1807861328125\n",
            "Epoch: 21, Loss: 7.097526550292969\n",
            "Epoch: 22, Loss: 7.026431083679199\n",
            "Epoch: 23, Loss: 6.944304466247559\n",
            "Epoch: 24, Loss: 6.862218856811523\n",
            "Epoch: 25, Loss: 6.784948348999023\n",
            "Epoch: 26, Loss: 6.7099080085754395\n",
            "Epoch: 27, Loss: 6.6337714195251465\n",
            "Epoch: 28, Loss: 6.560471534729004\n",
            "Epoch: 29, Loss: 6.487556457519531\n",
            "Epoch: 30, Loss: 6.423011779785156\n",
            "Epoch: 31, Loss: 6.347656726837158\n",
            "Epoch: 32, Loss: 6.279702663421631\n",
            "Epoch: 33, Loss: 6.224728584289551\n",
            "Epoch: 34, Loss: 6.146589756011963\n",
            "Epoch: 35, Loss: 6.079103946685791\n",
            "Epoch: 36, Loss: 6.012206554412842\n",
            "Epoch: 37, Loss: 5.93736457824707\n",
            "Epoch: 38, Loss: 5.873002529144287\n",
            "Epoch: 39, Loss: 5.814192295074463\n",
            "Epoch: 40, Loss: 5.751357078552246\n",
            "Epoch: 41, Loss: 5.689990043640137\n",
            "Epoch: 42, Loss: 5.620241165161133\n",
            "Epoch: 43, Loss: 5.5606465339660645\n",
            "Epoch: 44, Loss: 5.5047430992126465\n",
            "Epoch: 45, Loss: 5.443975925445557\n",
            "Epoch: 46, Loss: 5.387205600738525\n"
          ]
        }
      ]
    },
    {
      "cell_type": "code",
      "source": [],
      "metadata": {
        "id": "IPXUPhRgRAy7"
      },
      "execution_count": null,
      "outputs": []
    }
  ]
}